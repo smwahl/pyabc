{
 "cells": [
  {
   "cell_type": "code",
   "execution_count": null,
   "metadata": {
    "collapsed": true
   },
   "outputs": [],
   "source": [
    "#import pyabc\n",
    "from pyabc import *\n",
    "import json"
   ]
  },
  {
   "cell_type": "code",
   "execution_count": 2,
   "metadata": {},
   "outputs": [],
   "source": [
    "#pyabc."
   ]
  },
  {
   "cell_type": "code",
   "execution_count": 3,
   "metadata": {
    "collapsed": true
   },
   "outputs": [],
   "source": [
    "ts_tunes = json.loads(open('thesession_2017_07_12.json', 'rb').read().decode('utf8'))\n"
   ]
  },
  {
   "cell_type": "code",
   "execution_count": 4,
   "metadata": {},
   "outputs": [
    {
     "data": {
      "text/plain": [
       "{u'abc': u'eAAB eABB|eAAB gedB|eAAB eABB|G2AB gedB:|\\r\\n~e3d efg2|~e3f gedB|~e3d efg2|G2AB gedB|\\r\\n~e3d efg2|~e3f gedB|efga geg2|GABG gedB||',\n",
       " u'date': u'2015-07-31 02:47:47',\n",
       " u'meter': u'4/4',\n",
       " u'mode': u'Bminor',\n",
       " u'name': u\"'S Daor An Tabac\",\n",
       " u'setting': u'26955',\n",
       " u'tune': u'14625',\n",
       " u'type': u'reel',\n",
       " u'username': u'Charles Mackenzie'}"
      ]
     },
     "execution_count": 4,
     "metadata": {},
     "output_type": "execute_result"
    }
   ],
   "source": [
    "ts_tunes[3]"
   ]
  },
  {
   "cell_type": "code",
   "execution_count": 5,
   "metadata": {},
   "outputs": [],
   "source": [
    "def matchJsonField(js,field,string):\n",
    "    result = []\n",
    "    for t in js:\n",
    "        if t[field] == string:\n",
    "            result.append(t)\n",
    "    return  result  \n",
    "\n",
    "def inJsonField(js,field,string):\n",
    "    result = []\n",
    "    for t in js:\n",
    "        if string in t[field]:\n",
    "            result.append(t)\n",
    "    return result\n",
    "\n",
    "def fieldList(js,field):\n",
    "    result = []\n",
    "    for t in js:\n",
    "        result.append(t[field])\n",
    "    return result\n",
    "        "
   ]
  },
  {
   "cell_type": "code",
   "execution_count": 6,
   "metadata": {},
   "outputs": [
    {
     "name": "stdout",
     "output_type": "stream",
     "text": [
      "[{u'username': u'Jeremy', u'abc': u'fed cAG| A2d cAG| F2D DED| FEF GFG|\\r\\nAGA cAG| AGA cde|fed cAG| Ad^c d3:|\\r\\nf2d d^cd| f2g agf| e2c cBc|e2f gfe| \\r\\nf2g agf| e2f gfe|fed cAG|Ad^c d3:|\\r\\nf2g e2f| d2e c2d|ABA GAG| F2F GED|\\r\\nc3 cAG| AGA cde| fed cAG| Ad^c d3:|', u'name': u'Banish Misfortune', u'meter': u'6/8', u'setting': u'9', u'mode': u'Dmixolydian', u'date': u'2001-05-18 03:50:35', u'type': u'jig', u'tune': u'9'}, {u'username': u'JACKB', u'abc': u'gfe dBA| B2e dBA| G2E EFE| GFG AGA|\\r\\nBAB dBA| BAB def|gfe dBA| Be^d e3:|\\r\\ng2e e^de| g2a bag| f2d dcd|f2g agf|\\r\\ng2a bag| f2g agf|gfe dBA|Be^d e3:|\\r\\ng2a f2g| e2f d2e|BcB ABA| G2G AFE|\\r\\nd3 dBA| BAB def| gfe dBA| Be^d e3:|', u'name': u'Banish Misfortune', u'meter': u'6/8', u'setting': u'22361', u'mode': u'Emixolydian', u'date': u'2013-09-24 07:09:32', u'type': u'jig', u'tune': u'9'}, {u'username': u'GaryAMartin', u'abc': u'd2 e|fed cAG|A2d =cAG|EFD DdD|FDF GFG|\\r\\nA^GA =cAD|(3EFG A cde|fed cAG|AdA d2 g||\\r\\nfed cAG|A2d =cAG|EFD DdD|(3FED F G2G|\\r\\nA2A =cAD|(3EFG A cde|fed cAG|AdA d2 e||\\r\\nefd dcd|(3fed f afd|eg=c cBc|(3ed=c e gag|\\r\\n(ef)g afd|(3efe f gag|fed cAG|ABc dag||\\r\\nefd dcd|Adf aba|ge=c (3cgc G|=ceg gag|\\r\\n(ef)g afd|(3efe f gag|fed cAG|ABc d2 e||\\r\\nef g ef f|ded =c2 c|ABA GG E|=F2 A GED|\\r\\n=c2 c cAD|(3EFG A cde|fed cAG|AdA d2 e||\\r\\nfed edc|cdB =c2 c|A2 A (3GBG E|=F2 F FED|\\r\\n=C2 C =cAG|(3EFG A cde|fed cAG|AdA d2 e|]\\r\\n', u'name': u'Banish Misfortune', u'meter': u'6/8', u'setting': u'23916', u'mode': u'Dmajor', u'date': u'2014-04-04 01:35:23', u'type': u'jig', u'tune': u'9'}, {u'username': u'JACKB', u'abc': u'|:g/f/ed cAG| A2d cAG| F2D D3| F3 GFG|\\r\\nAGA cAG| AGA cde|g/f/ed cAG| Ad^c d3:|\\r\\n|:f2d dB/^c/d| f2g agf| e2c cBc|e2f gfe|\\r\\nf2g agf| e2f gfe|fed cAG|Ad^c d3:|\\r\\n|:f2g e2f| d2e c2d|A3 GAG| F3 GED|\\r\\nc3 cAG| AGA cde| g/f/ed cAG| Ad^c d3:|', u'name': u'Banish Misfortune', u'meter': u'6/8', u'setting': u'25918', u'mode': u'Dmixolydian', u'date': u'2015-03-04 02:01:10', u'type': u'jig', u'tune': u'9'}, {u'username': u'Bryce', u'abc': u'|de|:\"D\"fed \"C\"cAG| \"D\"Add \"C\"cAG| \"D\"F2D DED| FEF \"C\"GFG|\\r\\n\"D\"AGA \"C\"cAG| \"D\"AGA \"C\"cde|\"D\"fed \"C\"cAG| \"D\"Ad^c d2e:|\\r\\n|:\"D\"f2d d^cd| f2g agf| \"C\"e2c cBc|e2f gfe| \\r\\n\"D\"f2g agf| \"C\"e2f gfe|\"D\"fed \"C\"cAG|\"D\"Ad^c d2e:|\\r\\n|:\"D\"f2g \"C\"e2f| \"D\"d2e \"C\"c2d|\"D\"ABA \"C\"GAG| \"D\"F2F GED|\\r\\n\"C\"c3 cAG| AGA cde| \"D\"fed cAG|[1 \"C\"Ad^c \"D\"d2e:|[2 \"C\"Ad^c \"D\"d3|]', u'name': u'Banish Misfortune', u'meter': u'6/8', u'setting': u'28408', u'mode': u'Dmixolydian', u'date': u'2016-03-03 21:29:59', u'type': u'jig', u'tune': u'9'}]\n"
     ]
    }
   ],
   "source": [
    "result = matchJsonField(ts_tunes,'name','Banish Misfortune')\n",
    "print result"
   ]
  },
  {
   "cell_type": "code",
   "execution_count": 7,
   "metadata": {},
   "outputs": [
    {
     "name": "stdout",
     "output_type": "stream",
     "text": [
      "[u'Back Of The Haggard, The', u'Back Of The Haggard, The', u'Back Of The Haggard, The', u'Back Of The Haggard, The', u'Cheer Up Old Hag', u'Cheer Up Old Hag', u'Cheer Up Old Hag', u'Cheer Up Old Hag', u'Cheer Up Old Hag', u'Hag At The Churn, The', u'Hag At The Churn, The', u'Hag At The Churn, The', u'Hag At The Churn, The', u'Hag At The Churn, The', u'Hag At The Churn, The', u'Hag At The Churn, The', u'Hag At The Churn, The', u'Hag At The Spinning Wheel, The', u'Hag At The Spinning Wheel, The', u'Hag At The Spinning Wheel, The', u'Hag At The Spinning Wheel, The', u'Hag At The Spinning Wheel, The', u'Hag At The Spinning Wheel, The', u'Hag By The Fire, The', u'Hag By The Fire, The', u'Hag With No Money, The', u'Hag With The Money, The', u'Hag With The Money, The', u'Hag With The Money, The', u'Hag With The Money, The', u'Hag With The Money, The', u'Hag With The Money, The', u'Hag With The Money, The', u'Hag With The Money, The', u\"Hag's Dream, The\", u\"Hag's Dream, The\", u\"Hag's Dream, The\", u\"Hag's Dream, The\", u\"Hag's Purse, The\", u\"Hag's Purse, The\", u\"Hag's Purse, The\", u\"Hag's Purse, The\", u\"Hag's Purse, The\", u\"Haggis Geordie's\", u'Haggis, The', u'Haggis, The', u'Haggis, The', u'Marten Haggs', u'Old Hag, You Have Killed Me', u'Old Hag, You Have Killed Me', u'Old Hag, You Have Killed Me', u'Old Hag, You Have Killed Me', u'Old Hag, You Have Killed Me', u'Red-Haired Hag, The', u'Ruffle The Old Hag In The Corner', u'Ruffle The Old Hag In The Corner']\n",
      "[u'hornpipe', u'hornpipe', u'hornpipe', u'hornpipe', u'jig', u'jig', u'jig', u'jig', u'jig', u'jig', u'jig', u'jig', u'jig', u'jig', u'jig', u'jig', u'jig', u'jig', u'jig', u'jig', u'jig', u'jig', u'jig', u'reel', u'reel', u'jig', u'jig', u'jig', u'jig', u'jig', u'jig', u'jig', u'jig', u'jig', u'slip jig', u'slip jig', u'slip jig', u'slip jig', u'jig', u'jig', u'jig', u'jig', u'jig', u'jig', u'reel', u'reel', u'reel', u'waltz', u'jig', u'jig', u'jig', u'jig', u'jig', u'jig', u'slip jig', u'slip jig']\n",
      "[u'Dmajor', u'Dmajor', u'Dmajor', u'Dmajor', u'Gmajor', u'Gmajor', u'Gmajor', u'Gmajor', u'Gmajor', u'Dmixolydian', u'Emixolydian', u'Dmixolydian', u'Emixolydian', u'Gmixolydian', u'Amixolydian', u'Dmixolydian', u'Dmixolydian', u'Gmajor', u'Gmajor', u'Gmajor', u'Gmajor', u'Gmajor', u'Gmajor', u'Dmajor', u'Dmajor', u'Gmajor', u'Dmixolydian', u'Dmixolydian', u'Emixolydian', u'Dmixolydian', u'Dmixolydian', u'Gmajor', u'Dmajor', u'Amixolydian', u'Cmajor', u'Dmajor', u'Gmajor', u'Dmajor', u'Dmixolydian', u'Dmixolydian', u'Dmixolydian', u'Dmixolydian', u'Dmixolydian', u'Eminor', u'Cmajor', u'Dmajor', u'Dmajor', u'Gmajor', u'Dmixolydian', u'Dmixolydian', u'Dmixolydian', u'Dmixolydian', u'Amixolydian', u'Amixolydian', u'Dmixolydian', u'Dmixolydian']\n"
     ]
    }
   ],
   "source": [
    "result = inJsonField(ts_tunes,'name','Hag')\n",
    "print fieldList(result,'name')\n",
    "print fieldList(result,'type')\n",
    "print fieldList(result,'mode')"
   ]
  },
  {
   "cell_type": "code",
   "execution_count": 8,
   "metadata": {},
   "outputs": [
    {
     "name": "stdout",
     "output_type": "stream",
     "text": [
      "fed cAG| A2d cAG| F2D DED| FEF GFG|\n",
      "AGA cAG| AGA cde|fed cAG| Ad^c d3:|\n",
      "f2d d^cd| f2g agf| e2c cBc|e2f gfe| \n",
      "f2g agf| e2f gfe|fed cAG|Ad^c d3:|\n",
      "f2g e2f| d2e c2d|ABA GAG| F2F GED|\n",
      "c3 cAG| AGA cde| fed cAG| Ad^c d3:|\n"
     ]
    }
   ],
   "source": [
    "t = matchJsonField(ts_tunes,'name','Banish Misfortune')[0]\n",
    "tune = Tune(json=t)\n"
   ]
  },
  {
   "cell_type": "code",
   "execution_count": 9,
   "metadata": {},
   "outputs": [
    {
     "data": {
      "text/plain": [
       "{'key': u'Dmixolydian',\n",
       " 'meter': u'6/8',\n",
       " 'reference number': u'9',\n",
       " 'setting': u'9',\n",
       " 'tune title': u'Banish Misfortune',\n",
       " 'unit note length': u'1/8'}"
      ]
     },
     "execution_count": 9,
     "metadata": {},
     "output_type": "execute_result"
    }
   ],
   "source": [
    "tune.header"
   ]
  },
  {
   "cell_type": "code",
   "execution_count": 10,
   "metadata": {},
   "outputs": [],
   "source": [
    "note = tune.notes[1]"
   ]
  },
  {
   "cell_type": "code",
   "execution_count": 13,
   "metadata": {},
   "outputs": [
    {
     "data": {
      "text/plain": [
       "<Key G ionian>"
      ]
     },
     "execution_count": 13,
     "metadata": {},
     "output_type": "execute_result"
    }
   ],
   "source": [
    "key = Key(name=tune.header['key'])\n",
    "key.relative_ionian"
   ]
  },
  {
   "cell_type": "code",
   "execution_count": 14,
   "metadata": {},
   "outputs": [
    {
     "data": {
      "text/plain": [
       "[<Note \"f\">,\n",
       " <Note \"e\">,\n",
       " <Note \"d\">,\n",
       " <Space \" \">,\n",
       " <Note \"c\">,\n",
       " <Note \"A\">,\n",
       " <Note \"G\">,\n",
       " <Beam \"|\">,\n",
       " <Space \" \">,\n",
       " <Note \"A2\">,\n",
       " <Note \"d\">,\n",
       " <Space \" \">,\n",
       " <Note \"c\">,\n",
       " <Note \"A\">,\n",
       " <Note \"G\">,\n",
       " <Beam \"|\">,\n",
       " <Space \" \">,\n",
       " <Note \"F2\">,\n",
       " <Note \"D\">,\n",
       " <Space \" \">,\n",
       " <Note \"D\">,\n",
       " <Note \"E\">,\n",
       " <Note \"D\">,\n",
       " <Beam \"|\">,\n",
       " <Space \" \">,\n",
       " <Note \"F\">,\n",
       " <Note \"E\">,\n",
       " <Note \"F\">,\n",
       " <Space \" \">,\n",
       " <Note \"G\">,\n",
       " <Note \"F\">,\n",
       " <Note \"G\">,\n",
       " <Beam \"|\">,\n",
       " <Newline \"\n",
       " \">,\n",
       " <Note \"A\">,\n",
       " <Note \"G\">,\n",
       " <Note \"A\">,\n",
       " <Space \" \">,\n",
       " <Note \"c\">,\n",
       " <Note \"A\">,\n",
       " <Note \"G\">,\n",
       " <Beam \"|\">,\n",
       " <Space \" \">,\n",
       " <Note \"A\">,\n",
       " <Note \"G\">,\n",
       " <Note \"A\">,\n",
       " <Space \" \">,\n",
       " <Note \"c\">,\n",
       " <Note \"d\">,\n",
       " <Note \"e\">,\n",
       " <Beam \"|\">,\n",
       " <Note \"f\">,\n",
       " <Note \"e\">,\n",
       " <Note \"d\">,\n",
       " <Space \" \">,\n",
       " <Note \"c\">,\n",
       " <Note \"A\">,\n",
       " <Note \"G\">,\n",
       " <Beam \"|\">,\n",
       " <Space \" \">,\n",
       " <Note \"A\">,\n",
       " <Note \"d\">,\n",
       " <Note \"^c\">,\n",
       " <Space \" \">,\n",
       " <Note \"d3\">,\n",
       " <Beam \":|\">,\n",
       " <Newline \"\n",
       " \">,\n",
       " <Note \"f2\">,\n",
       " <Note \"d\">,\n",
       " <Space \" \">,\n",
       " <Note \"d\">,\n",
       " <Note \"^c\">,\n",
       " <Note \"d\">,\n",
       " <Beam \"|\">,\n",
       " <Space \" \">,\n",
       " <Note \"f2\">,\n",
       " <Note \"g\">,\n",
       " <Space \" \">,\n",
       " <Note \"a\">,\n",
       " <Note \"g\">,\n",
       " <Note \"f\">,\n",
       " <Beam \"|\">,\n",
       " <Space \" \">,\n",
       " <Note \"e2\">,\n",
       " <Note \"c\">,\n",
       " <Space \" \">,\n",
       " <Note \"c\">,\n",
       " <Note \"B\">,\n",
       " <Note \"c\">,\n",
       " <Beam \"|\">,\n",
       " <Note \"e2\">,\n",
       " <Note \"f\">,\n",
       " <Space \" \">,\n",
       " <Note \"g\">,\n",
       " <Note \"f\">,\n",
       " <Note \"e\">,\n",
       " <Beam \"|\">,\n",
       " <Newline \"\n",
       " \">,\n",
       " <Note \"f2\">,\n",
       " <Note \"g\">,\n",
       " <Space \" \">,\n",
       " <Note \"a\">,\n",
       " <Note \"g\">,\n",
       " <Note \"f\">,\n",
       " <Beam \"|\">,\n",
       " <Space \" \">,\n",
       " <Note \"e2\">,\n",
       " <Note \"f\">,\n",
       " <Space \" \">,\n",
       " <Note \"g\">,\n",
       " <Note \"f\">,\n",
       " <Note \"e\">,\n",
       " <Beam \"|\">,\n",
       " <Note \"f\">,\n",
       " <Note \"e\">,\n",
       " <Note \"d\">,\n",
       " <Space \" \">,\n",
       " <Note \"c\">,\n",
       " <Note \"A\">,\n",
       " <Note \"G\">,\n",
       " <Beam \"|\">,\n",
       " <Note \"A\">,\n",
       " <Note \"d\">,\n",
       " <Note \"^c\">,\n",
       " <Space \" \">,\n",
       " <Note \"d3\">,\n",
       " <Beam \":|\">,\n",
       " <Newline \"\n",
       " \">,\n",
       " <Note \"f2\">,\n",
       " <Note \"g\">,\n",
       " <Space \" \">,\n",
       " <Note \"e2\">,\n",
       " <Note \"f\">,\n",
       " <Beam \"|\">,\n",
       " <Space \" \">,\n",
       " <Note \"d2\">,\n",
       " <Note \"e\">,\n",
       " <Space \" \">,\n",
       " <Note \"c2\">,\n",
       " <Note \"d\">,\n",
       " <Beam \"|\">,\n",
       " <Note \"A\">,\n",
       " <Note \"B\">,\n",
       " <Note \"A\">,\n",
       " <Space \" \">,\n",
       " <Note \"G\">,\n",
       " <Note \"A\">,\n",
       " <Note \"G\">,\n",
       " <Beam \"|\">,\n",
       " <Space \" \">,\n",
       " <Note \"F2\">,\n",
       " <Note \"F\">,\n",
       " <Space \" \">,\n",
       " <Note \"G\">,\n",
       " <Note \"E\">,\n",
       " <Note \"D\">,\n",
       " <Beam \"|\">,\n",
       " <Newline \"\n",
       " \">,\n",
       " <Note \"c3\">,\n",
       " <Space \" \">,\n",
       " <Note \"c\">,\n",
       " <Note \"A\">,\n",
       " <Note \"G\">,\n",
       " <Beam \"|\">,\n",
       " <Space \" \">,\n",
       " <Note \"A\">,\n",
       " <Note \"G\">,\n",
       " <Note \"A\">,\n",
       " <Space \" \">,\n",
       " <Note \"c\">,\n",
       " <Note \"d\">,\n",
       " <Note \"e\">,\n",
       " <Beam \"|\">,\n",
       " <Space \" \">,\n",
       " <Note \"f\">,\n",
       " <Note \"e\">,\n",
       " <Note \"d\">,\n",
       " <Space \" \">,\n",
       " <Note \"c\">,\n",
       " <Note \"A\">,\n",
       " <Note \"G\">,\n",
       " <Beam \"|\">,\n",
       " <Space \" \">,\n",
       " <Note \"A\">,\n",
       " <Note \"d\">,\n",
       " <Note \"^c\">,\n",
       " <Space \" \">,\n",
       " <Note \"d3\">,\n",
       " <Beam \":|\">,\n",
       " <Newline \"\n",
       " \">]"
      ]
     },
     "execution_count": 14,
     "metadata": {},
     "output_type": "execute_result"
    }
   ],
   "source": [
    "tune.tokens"
   ]
  },
  {
   "cell_type": "code",
   "execution_count": 15,
   "metadata": {},
   "outputs": [
    {
     "data": {
      "text/plain": [
       "[<Note \"f\">,\n",
       " <Note \"e\">,\n",
       " <Note \"d\">,\n",
       " <Note \"c\">,\n",
       " <Note \"A\">,\n",
       " <Note \"G\">,\n",
       " <Note \"A2\">,\n",
       " <Note \"d\">,\n",
       " <Note \"c\">,\n",
       " <Note \"A\">,\n",
       " <Note \"G\">,\n",
       " <Note \"F2\">,\n",
       " <Note \"D\">,\n",
       " <Note \"D\">,\n",
       " <Note \"E\">,\n",
       " <Note \"D\">,\n",
       " <Note \"F\">,\n",
       " <Note \"E\">,\n",
       " <Note \"F\">,\n",
       " <Note \"G\">,\n",
       " <Note \"F\">,\n",
       " <Note \"G\">,\n",
       " <Note \"A\">,\n",
       " <Note \"G\">,\n",
       " <Note \"A\">,\n",
       " <Note \"c\">,\n",
       " <Note \"A\">,\n",
       " <Note \"G\">,\n",
       " <Note \"A\">,\n",
       " <Note \"G\">,\n",
       " <Note \"A\">,\n",
       " <Note \"c\">,\n",
       " <Note \"d\">,\n",
       " <Note \"e\">,\n",
       " <Note \"f\">,\n",
       " <Note \"e\">,\n",
       " <Note \"d\">,\n",
       " <Note \"c\">,\n",
       " <Note \"A\">,\n",
       " <Note \"G\">,\n",
       " <Note \"A\">,\n",
       " <Note \"d\">,\n",
       " <Note \"^c\">,\n",
       " <Note \"d3\">,\n",
       " <Note \"f2\">,\n",
       " <Note \"d\">,\n",
       " <Note \"d\">,\n",
       " <Note \"^c\">,\n",
       " <Note \"d\">,\n",
       " <Note \"f2\">,\n",
       " <Note \"g\">,\n",
       " <Note \"a\">,\n",
       " <Note \"g\">,\n",
       " <Note \"f\">,\n",
       " <Note \"e2\">,\n",
       " <Note \"c\">,\n",
       " <Note \"c\">,\n",
       " <Note \"B\">,\n",
       " <Note \"c\">,\n",
       " <Note \"e2\">,\n",
       " <Note \"f\">,\n",
       " <Note \"g\">,\n",
       " <Note \"f\">,\n",
       " <Note \"e\">,\n",
       " <Note \"f2\">,\n",
       " <Note \"g\">,\n",
       " <Note \"a\">,\n",
       " <Note \"g\">,\n",
       " <Note \"f\">,\n",
       " <Note \"e2\">,\n",
       " <Note \"f\">,\n",
       " <Note \"g\">,\n",
       " <Note \"f\">,\n",
       " <Note \"e\">,\n",
       " <Note \"f\">,\n",
       " <Note \"e\">,\n",
       " <Note \"d\">,\n",
       " <Note \"c\">,\n",
       " <Note \"A\">,\n",
       " <Note \"G\">,\n",
       " <Note \"A\">,\n",
       " <Note \"d\">,\n",
       " <Note \"^c\">,\n",
       " <Note \"d3\">,\n",
       " <Note \"f2\">,\n",
       " <Note \"g\">,\n",
       " <Note \"e2\">,\n",
       " <Note \"f\">,\n",
       " <Note \"d2\">,\n",
       " <Note \"e\">,\n",
       " <Note \"c2\">,\n",
       " <Note \"d\">,\n",
       " <Note \"A\">,\n",
       " <Note \"B\">,\n",
       " <Note \"A\">,\n",
       " <Note \"G\">,\n",
       " <Note \"A\">,\n",
       " <Note \"G\">,\n",
       " <Note \"F2\">,\n",
       " <Note \"F\">,\n",
       " <Note \"G\">,\n",
       " <Note \"E\">,\n",
       " <Note \"D\">,\n",
       " <Note \"c3\">,\n",
       " <Note \"c\">,\n",
       " <Note \"A\">,\n",
       " <Note \"G\">,\n",
       " <Note \"A\">,\n",
       " <Note \"G\">,\n",
       " <Note \"A\">,\n",
       " <Note \"c\">,\n",
       " <Note \"d\">,\n",
       " <Note \"e\">,\n",
       " <Note \"f\">,\n",
       " <Note \"e\">,\n",
       " <Note \"d\">,\n",
       " <Note \"c\">,\n",
       " <Note \"A\">,\n",
       " <Note \"G\">,\n",
       " <Note \"A\">,\n",
       " <Note \"d\">,\n",
       " <Note \"^c\">,\n",
       " <Note \"d3\">]"
      ]
     },
     "execution_count": 15,
     "metadata": {},
     "output_type": "execute_result"
    }
   ],
   "source": [
    "tune.notes"
   ]
  },
  {
   "cell_type": "code",
   "execution_count": 16,
   "metadata": {},
   "outputs": [],
   "source": [
    "note = tune.notes[6]\n",
    "pitch = note.pitch"
   ]
  },
  {
   "cell_type": "code",
   "execution_count": 17,
   "metadata": {},
   "outputs": [
    {
     "data": {
      "text/plain": [
       "9"
      ]
     },
     "execution_count": 17,
     "metadata": {},
     "output_type": "execute_result"
    }
   ],
   "source": [
    "pitch.abs_value"
   ]
  },
  {
   "cell_type": "code",
   "execution_count": 21,
   "metadata": {},
   "outputs": [],
   "source": [
    "\n",
    "\n",
    "def transposeKey(key0,step):\n",
    "    from numpy import mod, floor_divide\n",
    "    inv_pitch_values={ pitch_values[n]:n for n in chromatic_notes }\n",
    "\n",
    "\n",
    "    mode = key0.mode\n",
    "    rootval0 = pitch_values[key0.root.name] + step\n",
    "    rootval = mod(rootval0,12)\n",
    "    root = inv_pitch_values[rootval]\n",
    "    \n",
    "    return Key(root=root,mode=mode)\n",
    "    "
   ]
  },
  {
   "cell_type": "code",
   "execution_count": 22,
   "metadata": {},
   "outputs": [
    {
     "data": {
      "text/plain": [
       "<pyabc.Tune at 0x10c122f10>"
      ]
     },
     "execution_count": 22,
     "metadata": {},
     "output_type": "execute_result"
    }
   ],
   "source": [
    "tune"
   ]
  },
  {
   "cell_type": "code",
   "execution_count": 23,
   "metadata": {},
   "outputs": [
    {
     "data": {
      "text/plain": [
       "u'Dmixolydian'"
      ]
     },
     "execution_count": 23,
     "metadata": {},
     "output_type": "execute_result"
    }
   ],
   "source": [
    "tune.header['key']"
   ]
  },
  {
   "cell_type": "code",
   "execution_count": 24,
   "metadata": {},
   "outputs": [
    {
     "data": {
      "text/plain": [
       "[<Note \"f\">,\n",
       " <Note \"e\">,\n",
       " <Note \"d\">,\n",
       " <Space \" \">,\n",
       " <Note \"c\">,\n",
       " <Note \"A\">,\n",
       " <Note \"G\">,\n",
       " <Beam \"|\">,\n",
       " <Space \" \">,\n",
       " <Note \"A2\">,\n",
       " <Note \"d\">,\n",
       " <Space \" \">,\n",
       " <Note \"c\">,\n",
       " <Note \"A\">,\n",
       " <Note \"G\">,\n",
       " <Beam \"|\">,\n",
       " <Space \" \">,\n",
       " <Note \"F2\">,\n",
       " <Note \"D\">,\n",
       " <Space \" \">,\n",
       " <Note \"D\">,\n",
       " <Note \"E\">,\n",
       " <Note \"D\">,\n",
       " <Beam \"|\">,\n",
       " <Space \" \">,\n",
       " <Note \"F\">,\n",
       " <Note \"E\">,\n",
       " <Note \"F\">,\n",
       " <Space \" \">,\n",
       " <Note \"G\">,\n",
       " <Note \"F\">,\n",
       " <Note \"G\">,\n",
       " <Beam \"|\">,\n",
       " <Newline \"\n",
       " \">,\n",
       " <Note \"A\">,\n",
       " <Note \"G\">,\n",
       " <Note \"A\">,\n",
       " <Space \" \">,\n",
       " <Note \"c\">,\n",
       " <Note \"A\">,\n",
       " <Note \"G\">,\n",
       " <Beam \"|\">,\n",
       " <Space \" \">,\n",
       " <Note \"A\">,\n",
       " <Note \"G\">,\n",
       " <Note \"A\">,\n",
       " <Space \" \">,\n",
       " <Note \"c\">,\n",
       " <Note \"d\">,\n",
       " <Note \"e\">,\n",
       " <Beam \"|\">,\n",
       " <Note \"f\">,\n",
       " <Note \"e\">,\n",
       " <Note \"d\">,\n",
       " <Space \" \">,\n",
       " <Note \"c\">,\n",
       " <Note \"A\">,\n",
       " <Note \"G\">,\n",
       " <Beam \"|\">,\n",
       " <Space \" \">,\n",
       " <Note \"A\">,\n",
       " <Note \"d\">,\n",
       " <Note \"^c\">,\n",
       " <Space \" \">,\n",
       " <Note \"d3\">,\n",
       " <Beam \":|\">,\n",
       " <Newline \"\n",
       " \">,\n",
       " <Note \"f2\">,\n",
       " <Note \"d\">,\n",
       " <Space \" \">,\n",
       " <Note \"d\">,\n",
       " <Note \"^c\">,\n",
       " <Note \"d\">,\n",
       " <Beam \"|\">,\n",
       " <Space \" \">,\n",
       " <Note \"f2\">,\n",
       " <Note \"g\">,\n",
       " <Space \" \">,\n",
       " <Note \"a\">,\n",
       " <Note \"g\">,\n",
       " <Note \"f\">,\n",
       " <Beam \"|\">,\n",
       " <Space \" \">,\n",
       " <Note \"e2\">,\n",
       " <Note \"c\">,\n",
       " <Space \" \">,\n",
       " <Note \"c\">,\n",
       " <Note \"B\">,\n",
       " <Note \"c\">,\n",
       " <Beam \"|\">,\n",
       " <Note \"e2\">,\n",
       " <Note \"f\">,\n",
       " <Space \" \">,\n",
       " <Note \"g\">,\n",
       " <Note \"f\">,\n",
       " <Note \"e\">,\n",
       " <Beam \"|\">,\n",
       " <Newline \"\n",
       " \">,\n",
       " <Note \"f2\">,\n",
       " <Note \"g\">,\n",
       " <Space \" \">,\n",
       " <Note \"a\">,\n",
       " <Note \"g\">,\n",
       " <Note \"f\">,\n",
       " <Beam \"|\">,\n",
       " <Space \" \">,\n",
       " <Note \"e2\">,\n",
       " <Note \"f\">,\n",
       " <Space \" \">,\n",
       " <Note \"g\">,\n",
       " <Note \"f\">,\n",
       " <Note \"e\">,\n",
       " <Beam \"|\">,\n",
       " <Note \"f\">,\n",
       " <Note \"e\">,\n",
       " <Note \"d\">,\n",
       " <Space \" \">,\n",
       " <Note \"c\">,\n",
       " <Note \"A\">,\n",
       " <Note \"G\">,\n",
       " <Beam \"|\">,\n",
       " <Note \"A\">,\n",
       " <Note \"d\">,\n",
       " <Note \"^c\">,\n",
       " <Space \" \">,\n",
       " <Note \"d3\">,\n",
       " <Beam \":|\">,\n",
       " <Newline \"\n",
       " \">,\n",
       " <Note \"f2\">,\n",
       " <Note \"g\">,\n",
       " <Space \" \">,\n",
       " <Note \"e2\">,\n",
       " <Note \"f\">,\n",
       " <Beam \"|\">,\n",
       " <Space \" \">,\n",
       " <Note \"d2\">,\n",
       " <Note \"e\">,\n",
       " <Space \" \">,\n",
       " <Note \"c2\">,\n",
       " <Note \"d\">,\n",
       " <Beam \"|\">,\n",
       " <Note \"A\">,\n",
       " <Note \"B\">,\n",
       " <Note \"A\">,\n",
       " <Space \" \">,\n",
       " <Note \"G\">,\n",
       " <Note \"A\">,\n",
       " <Note \"G\">,\n",
       " <Beam \"|\">,\n",
       " <Space \" \">,\n",
       " <Note \"F2\">,\n",
       " <Note \"F\">,\n",
       " <Space \" \">,\n",
       " <Note \"G\">,\n",
       " <Note \"E\">,\n",
       " <Note \"D\">,\n",
       " <Beam \"|\">,\n",
       " <Newline \"\n",
       " \">,\n",
       " <Note \"c3\">,\n",
       " <Space \" \">,\n",
       " <Note \"c\">,\n",
       " <Note \"A\">,\n",
       " <Note \"G\">,\n",
       " <Beam \"|\">,\n",
       " <Space \" \">,\n",
       " <Note \"A\">,\n",
       " <Note \"G\">,\n",
       " <Note \"A\">,\n",
       " <Space \" \">,\n",
       " <Note \"c\">,\n",
       " <Note \"d\">,\n",
       " <Note \"e\">,\n",
       " <Beam \"|\">,\n",
       " <Space \" \">,\n",
       " <Note \"f\">,\n",
       " <Note \"e\">,\n",
       " <Note \"d\">,\n",
       " <Space \" \">,\n",
       " <Note \"c\">,\n",
       " <Note \"A\">,\n",
       " <Note \"G\">,\n",
       " <Beam \"|\">,\n",
       " <Space \" \">,\n",
       " <Note \"A\">,\n",
       " <Note \"d\">,\n",
       " <Note \"^c\">,\n",
       " <Space \" \">,\n",
       " <Note \"d3\">,\n",
       " <Beam \":|\">,\n",
       " <Newline \"\n",
       " \">]"
      ]
     },
     "execution_count": 24,
     "metadata": {},
     "output_type": "execute_result"
    }
   ],
   "source": [
    "tune.tokens"
   ]
  },
  {
   "cell_type": "code",
   "execution_count": 85,
   "metadata": {},
   "outputs": [],
   "source": [
    "def isNote(x):\n",
    "    return isinstance(x,Note)\n",
    "\n",
    "def isBeam(x):\n",
    "    return isinstance(x,Beam)\n",
    "\n",
    "def simplifyTokens(tokens):\n",
    "    '''\n",
    "    Removes any elements that aren't notes or bars.\n",
    "    '''\n",
    "    results = []\n",
    "    for t in tokens:\n",
    "        if isNote(t) or isBar(t):\n",
    "            results.append(t)\n",
    "        else:\n",
    "            pass\n",
    "    return results\n",
    "\n",
    "def findMeasures(tokens1):\n",
    "    '''\n",
    "    For now this requires that parts be repeating\n",
    "    '''\n",
    "    tokens = simplifyTokens(tokens1)\n",
    "    result = []\n",
    "    meas = []\n",
    "    for t in tokens:\n",
    "        if isBeam(t):\n",
    "            meas.append(t)\n",
    "            result.append(meas)\n",
    "            meas = []\n",
    "        else:\n",
    "            meas.append(t)\n",
    "    return result\n",
    "            \n",
    "        \n",
    "def findParts(measures):\n",
    "        \n",
    "    result = []\n",
    "    part = []\n",
    "    for m in measures:\n",
    "        if  ':|' in str(m[-1]):\n",
    "            part.append(m)\n",
    "            result.append(part)\n",
    "            part = []\n",
    "        else:\n",
    "            part.append(m)\n",
    "    return result\n",
    "    \n",
    "    "
   ]
  },
  {
   "cell_type": "code",
   "execution_count": 84,
   "metadata": {},
   "outputs": [
    {
     "data": {
      "text/plain": [
       "[[<Note \"f\">,\n",
       "  <Note \"e\">,\n",
       "  <Note \"d\">,\n",
       "  <Note \"c\">,\n",
       "  <Note \"A\">,\n",
       "  <Note \"G\">,\n",
       "  <Beam \"|\">],\n",
       " [<Note \"A2\">, <Note \"d\">, <Note \"c\">, <Note \"A\">, <Note \"G\">, <Beam \"|\">],\n",
       " [<Note \"F2\">, <Note \"D\">, <Note \"D\">, <Note \"E\">, <Note \"D\">, <Beam \"|\">],\n",
       " [<Note \"F\">,\n",
       "  <Note \"E\">,\n",
       "  <Note \"F\">,\n",
       "  <Note \"G\">,\n",
       "  <Note \"F\">,\n",
       "  <Note \"G\">,\n",
       "  <Beam \"|\">],\n",
       " [<Note \"A\">,\n",
       "  <Note \"G\">,\n",
       "  <Note \"A\">,\n",
       "  <Note \"c\">,\n",
       "  <Note \"A\">,\n",
       "  <Note \"G\">,\n",
       "  <Beam \"|\">],\n",
       " [<Note \"A\">,\n",
       "  <Note \"G\">,\n",
       "  <Note \"A\">,\n",
       "  <Note \"c\">,\n",
       "  <Note \"d\">,\n",
       "  <Note \"e\">,\n",
       "  <Beam \"|\">],\n",
       " [<Note \"f\">,\n",
       "  <Note \"e\">,\n",
       "  <Note \"d\">,\n",
       "  <Note \"c\">,\n",
       "  <Note \"A\">,\n",
       "  <Note \"G\">,\n",
       "  <Beam \"|\">],\n",
       " [<Note \"A\">, <Note \"d\">, <Note \"^c\">, <Note \"d3\">, <Beam \":|\">],\n",
       " [<Note \"f2\">, <Note \"d\">, <Note \"d\">, <Note \"^c\">, <Note \"d\">, <Beam \"|\">],\n",
       " [<Note \"f2\">, <Note \"g\">, <Note \"a\">, <Note \"g\">, <Note \"f\">, <Beam \"|\">],\n",
       " [<Note \"e2\">, <Note \"c\">, <Note \"c\">, <Note \"B\">, <Note \"c\">, <Beam \"|\">],\n",
       " [<Note \"e2\">, <Note \"f\">, <Note \"g\">, <Note \"f\">, <Note \"e\">, <Beam \"|\">],\n",
       " [<Note \"f2\">, <Note \"g\">, <Note \"a\">, <Note \"g\">, <Note \"f\">, <Beam \"|\">],\n",
       " [<Note \"e2\">, <Note \"f\">, <Note \"g\">, <Note \"f\">, <Note \"e\">, <Beam \"|\">],\n",
       " [<Note \"f\">,\n",
       "  <Note \"e\">,\n",
       "  <Note \"d\">,\n",
       "  <Note \"c\">,\n",
       "  <Note \"A\">,\n",
       "  <Note \"G\">,\n",
       "  <Beam \"|\">],\n",
       " [<Note \"A\">, <Note \"d\">, <Note \"^c\">, <Note \"d3\">, <Beam \":|\">],\n",
       " [<Note \"f2\">, <Note \"g\">, <Note \"e2\">, <Note \"f\">, <Beam \"|\">],\n",
       " [<Note \"d2\">, <Note \"e\">, <Note \"c2\">, <Note \"d\">, <Beam \"|\">],\n",
       " [<Note \"A\">,\n",
       "  <Note \"B\">,\n",
       "  <Note \"A\">,\n",
       "  <Note \"G\">,\n",
       "  <Note \"A\">,\n",
       "  <Note \"G\">,\n",
       "  <Beam \"|\">],\n",
       " [<Note \"F2\">, <Note \"F\">, <Note \"G\">, <Note \"E\">, <Note \"D\">, <Beam \"|\">],\n",
       " [<Note \"c3\">, <Note \"c\">, <Note \"A\">, <Note \"G\">, <Beam \"|\">],\n",
       " [<Note \"A\">,\n",
       "  <Note \"G\">,\n",
       "  <Note \"A\">,\n",
       "  <Note \"c\">,\n",
       "  <Note \"d\">,\n",
       "  <Note \"e\">,\n",
       "  <Beam \"|\">],\n",
       " [<Note \"f\">,\n",
       "  <Note \"e\">,\n",
       "  <Note \"d\">,\n",
       "  <Note \"c\">,\n",
       "  <Note \"A\">,\n",
       "  <Note \"G\">,\n",
       "  <Beam \"|\">],\n",
       " [<Note \"A\">, <Note \"d\">, <Note \"^c\">, <Note \"d3\">, <Beam \":|\">]]"
      ]
     },
     "execution_count": 84,
     "metadata": {},
     "output_type": "execute_result"
    }
   ],
   "source": [
    "measures = findMeasures(tune.tokens)\n",
    "measures"
   ]
  },
  {
   "cell_type": "code",
   "execution_count": 90,
   "metadata": {},
   "outputs": [
    {
     "name": "stdout",
     "output_type": "stream",
     "text": [
      "3 parts\n",
      "16.0 bars\n",
      "16.0 bars\n",
      "16.0 bars\n"
     ]
    }
   ],
   "source": [
    "parts = findParts(measures)\n",
    "print len(parts), 'parts'\n",
    "for p in parts:\n",
    "    print 2.*len(p), 'bars'"
   ]
  },
  {
   "cell_type": "code",
   "execution_count": 47,
   "metadata": {},
   "outputs": [
    {
     "data": {
      "text/plain": [
       "<Note \"A\">"
      ]
     },
     "execution_count": 47,
     "metadata": {},
     "output_type": "execute_result"
    }
   ],
   "source": [
    "tune.tokens[13]"
   ]
  },
  {
   "cell_type": "code",
   "execution_count": 39,
   "metadata": {},
   "outputs": [
    {
     "ename": "AttributeError",
     "evalue": "'Beam' object has no attribute 'text'",
     "output_type": "error",
     "traceback": [
      "\u001b[0;31m---------------------------------------------------------------------------\u001b[0m",
      "\u001b[0;31mAttributeError\u001b[0m                            Traceback (most recent call last)",
      "\u001b[0;32m<ipython-input-39-ea8ad975f858>\u001b[0m in \u001b[0;36m<module>\u001b[0;34m()\u001b[0m\n\u001b[0;32m----> 1\u001b[0;31m \u001b[0mb1\u001b[0m\u001b[0;34m.\u001b[0m\u001b[0mtext\u001b[0m\u001b[0;34m\u001b[0m\u001b[0m\n\u001b[0m",
      "\u001b[0;31mAttributeError\u001b[0m: 'Beam' object has no attribute 'text'"
     ]
    }
   ],
   "source": [
    "Bar"
   ]
  },
  {
   "cell_type": "code",
   "execution_count": 43,
   "metadata": {},
   "outputs": [
    {
     "data": {
      "text/plain": [
       "pyabc.Beam"
      ]
     },
     "execution_count": 43,
     "metadata": {},
     "output_type": "execute_result"
    }
   ],
   "source": [
    "Beam"
   ]
  },
  {
   "cell_type": "code",
   "execution_count": 51,
   "metadata": {},
   "outputs": [
    {
     "data": {
      "text/plain": [
       "'<Beam \"|\">'"
      ]
     },
     "execution_count": 51,
     "metadata": {},
     "output_type": "execute_result"
    }
   ],
   "source": [
    "str(b1)"
   ]
  },
  {
   "cell_type": "code",
   "execution_count": 79,
   "metadata": {},
   "outputs": [
    {
     "name": "stdout",
     "output_type": "stream",
     "text": [
      "<Note \"d3\">\n",
      "(3, 1)\n",
      "3.0\n"
     ]
    }
   ],
   "source": [
    "print note\n",
    "print note.length\n",
    "print note.duration"
   ]
  },
  {
   "cell_type": "code",
   "execution_count": 67,
   "metadata": {},
   "outputs": [
    {
     "data": {
      "text/plain": [
       "(3, 1)"
      ]
     },
     "execution_count": 67,
     "metadata": {},
     "output_type": "execute_result"
    }
   ],
   "source": [
    "note.length"
   ]
  },
  {
   "cell_type": "code",
   "execution_count": 68,
   "metadata": {},
   "outputs": [
    {
     "data": {
      "text/plain": [
       "<Key D mixolydian>"
      ]
     },
     "execution_count": 68,
     "metadata": {},
     "output_type": "execute_result"
    }
   ],
   "source": [
    "note.key"
   ]
  },
  {
   "cell_type": "code",
   "execution_count": 69,
   "metadata": {},
   "outputs": [
    {
     "data": {
      "text/plain": [
       "<Pitch D>"
      ]
     },
     "execution_count": 69,
     "metadata": {},
     "output_type": "execute_result"
    }
   ],
   "source": [
    "note.pitch"
   ]
  },
  {
   "cell_type": "code",
   "execution_count": 70,
   "metadata": {},
   "outputs": [
    {
     "data": {
      "text/plain": [
       "<Pitch D>"
      ]
     },
     "execution_count": 70,
     "metadata": {},
     "output_type": "execute_result"
    }
   ],
   "source": [
    "note.pitch"
   ]
  },
  {
   "cell_type": "code",
   "execution_count": 71,
   "metadata": {},
   "outputs": [
    {
     "data": {
      "text/plain": [
       "<Pitch D>"
      ]
     },
     "execution_count": 71,
     "metadata": {},
     "output_type": "execute_result"
    }
   ],
   "source": [
    "note.pitch"
   ]
  },
  {
   "cell_type": "code",
   "execution_count": 72,
   "metadata": {},
   "outputs": [
    {
     "data": {
      "text/plain": [
       "2"
      ]
     },
     "execution_count": 72,
     "metadata": {},
     "output_type": "execute_result"
    }
   ],
   "source": [
    "note.pitch.value"
   ]
  },
  {
   "cell_type": "code",
   "execution_count": 73,
   "metadata": {},
   "outputs": [
    {
     "data": {
      "text/plain": [
       "<function pyabc.pitch_value>"
      ]
     },
     "execution_count": 73,
     "metadata": {},
     "output_type": "execute_result"
    }
   ],
   "source": [
    "note.pitch.pitch_value"
   ]
  },
  {
   "cell_type": "code",
   "execution_count": 74,
   "metadata": {},
   "outputs": [
    {
     "data": {
      "text/plain": [
       "2"
      ]
     },
     "execution_count": 74,
     "metadata": {},
     "output_type": "execute_result"
    }
   ],
   "source": [
    "note.pitch.value"
   ]
  },
  {
   "cell_type": "code",
   "execution_count": 75,
   "metadata": {},
   "outputs": [
    {
     "data": {
      "text/plain": [
       "1"
      ]
     },
     "execution_count": 75,
     "metadata": {},
     "output_type": "execute_result"
    }
   ],
   "source": [
    "note.pitch.octave"
   ]
  },
  {
   "cell_type": "code",
   "execution_count": null,
   "metadata": {
    "collapsed": true
   },
   "outputs": [],
   "source": []
  }
 ],
 "metadata": {
  "anaconda-cloud": {},
  "kernelspec": {
   "display_name": "Python [Root]",
   "language": "python",
   "name": "Python [Root]"
  },
  "language_info": {
   "codemirror_mode": {
    "name": "ipython",
    "version": 2
   },
   "file_extension": ".py",
   "mimetype": "text/x-python",
   "name": "python",
   "nbconvert_exporter": "python",
   "pygments_lexer": "ipython2",
   "version": "2.7.12"
  }
 },
 "nbformat": 4,
 "nbformat_minor": 1
}
