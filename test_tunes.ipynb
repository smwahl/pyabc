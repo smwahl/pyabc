{
 "cells": [
  {
   "cell_type": "code",
   "execution_count": 2,
   "metadata": {
    "collapsed": true
   },
   "outputs": [],
   "source": [
    "#import pyabc\n",
    "import pyabc \n",
    "import json\n",
    "import numpy as np"
   ]
  },
  {
   "cell_type": "code",
   "execution_count": 3,
   "metadata": {
    "collapsed": true
   },
   "outputs": [],
   "source": [
    "ts_tunes = json.loads(open('thesession_2017_07_12.json', 'rb').read().decode('utf8'))"
   ]
  },
  {
   "cell_type": "code",
   "execution_count": 4,
   "metadata": {
    "collapsed": true
   },
   "outputs": [],
   "source": [
    "def matchJsonField(js,field,string):\n",
    "    result = []\n",
    "    for t in js:\n",
    "        if t[field] == string:\n",
    "            result.append(t)\n",
    "    return  result  \n",
    "\n",
    "def inJsonField(js,field,string):\n",
    "    result = []\n",
    "    for t in js:\n",
    "        if string in t[field]:\n",
    "            result.append(t)\n",
    "    return result\n",
    "\n",
    "def fieldList(js,field):\n",
    "    result = []\n",
    "    for t in js:\n",
    "        result.append(t[field])\n",
    "    return result\n",
    "        "
   ]
  },
  {
   "cell_type": "code",
   "execution_count": 8,
   "metadata": {},
   "outputs": [
    {
     "name": "stdout",
     "output_type": "stream",
     "text": [
      "fed cAG| A2d cAG| F2D DED| FEF GFG|\n",
      "AGA cAG| AGA cde|fed cAG| Ad^c d3:|\n",
      "f2d d^cd| f2g agf| e2c cBc|e2f gfe| \n",
      "f2g agf| e2f gfe|fed cAG|Ad^c d3:|\n",
      "f2g e2f| d2e c2d|ABA GAG| F2F GED|\n",
      "c3 cAG| AGA cde| fed cAG| Ad^c d3:|\n"
     ]
    }
   ],
   "source": [
    "t = matchJsonField(ts_tunes,'name','Banish Misfortune')[0]\n",
    "tune = Tune(json=t)"
   ]
  },
  {
   "cell_type": "code",
   "execution_count": 18,
   "metadata": {},
   "outputs": [
    {
     "name": "stdout",
     "output_type": "stream",
     "text": [
      "G3D EDB,D|GFGB d2 Bd|eged BAGA|BAGE EDDE|\r",
      "G2 GD EDB,D|GFGB d2 Bd|eged BAGA|1 BAGE EDDE:|2 BAGE ED D2||\r",
      "eaag efge|dBBA B2 Bd|eB ~B2 gBfB|eBBA B2 Bd|\r",
      "eaag efge|dBBA B2 Bd|eged BAGA|1 BAGE EDD2:|2 BAGE EDDE||\n"
     ]
    }
   ],
   "source": [
    "t = matchJsonField(ts_tunes,'name','Banshee, The')[1] # The first and second ending breaks the pyabc Tune()?\n",
    "tune = Tune(json=t)"
   ]
  },
  {
   "cell_type": "code",
   "execution_count": 25,
   "metadata": {},
   "outputs": [
    {
     "name": "stdout",
     "output_type": "stream",
     "text": [
      "|:~G3 GAB|~A3 ABd|edd gdd|edB dBA|\n",
      "~G3 GAB|~A3 ABd|edd gdB|1 AGF G2D:|2 AGF G2A|\n",
      "|:~B3 dBd|ege dBG|~B3 dBG|ABA AGA|\n",
      "BAB dBd|ege dBd|~g3 aga|bgf g3:|\n"
     ]
    }
   ],
   "source": [
    "t = matchJsonField(ts_tunes,'name','Kesh, The')[-1]\n",
    "tune = Tune(json=t)"
   ]
  },
  {
   "cell_type": "code",
   "execution_count": 64,
   "metadata": {},
   "outputs": [
    {
     "data": {
      "text/plain": [
       "[{u'abc': u'EA,~A,2 E2DB,|G,B,~B,2 G,A,B,D|EA,~A,2 E2DE|GBeB dBAB|\\r\\neB~B2 eBdB|AE~E2 DG,B,G,|A,E~E2 E2DE|GEDB, B,A,~A,2:|\\r\\n|:A2EA cAEA|G2DB, G,A,B,D|EA~A2 GABd|edBA aged|\\r\\nbg~g2 afge|dB~B2 GEDB,|A,E~E2 E2DE|GEDB, B,A,~A,2:|\\r\\n|:A2EA cAEA|aged bage|dG~G2 DGBd|gded Bdgd|\\r\\ne2Be eBdB|AE~E2 DG,B,G,|A,E~E2 E2DE|GEDB, B,A,~A,2:|',\n",
       "  u'date': u'2002-05-04 23:14:34',\n",
       "  u'meter': u'4/4',\n",
       "  u'mode': u'Adorian',\n",
       "  u'name': u'Green Fields Of Glentown, The',\n",
       "  u'setting': u'671',\n",
       "  u'tune': u'671',\n",
       "  u'type': u'reel',\n",
       "  u'username': u'Kuddel'},\n",
       " {u'abc': u'A z EA cAEA|G2DG B,DG,B,|A,A~A2 BAGE|edBA aged|\\rbg~g2 aged|BG~G2 EDB,G,|A,E~E2 (DE2)F|GEDB, A,B,CD|.',\n",
       "  u'date': u'2006-11-10 09:24:28',\n",
       "  u'meter': u'4/4',\n",
       "  u'mode': u'Adorian',\n",
       "  u'name': u'Green Fields Of Glentown, The',\n",
       "  u'setting': u'13716',\n",
       "  u'tune': u'671',\n",
       "  u'type': u'reel',\n",
       "  u'username': u'DonaldK'},\n",
       " {u'abc': u'D|EA,~A,2 ~E2DB,|G,B,~B,2 G,A,B,D|EA,~A,2 ~E2DE|GBeB dBAB|\\reB~B2 eBdB|AE~E2 DG,B,G,|A,E~E2 ~E2DE|GEDB, B,A,A,:|\\r|:D|~A2EA cAFA|FGDB, G,A,B,D|EA~A2 EABd|edBA aged|\\rbg~g2 afge|dB~B2 AEDB,|A,E~E2 ~E2DE|GEDB, B,A,A,:|',\n",
       "  u'date': u'2007-04-16 07:27:34',\n",
       "  u'meter': u'4/4',\n",
       "  u'mode': u'Adorian',\n",
       "  u'name': u'Green Fields Of Glentown, The',\n",
       "  u'setting': u'13717',\n",
       "  u'tune': u'671',\n",
       "  u'type': u'reel',\n",
       "  u'username': u'Dr. Dow'},\n",
       " {u'abc': u'|:G|~A2EA cA~A2|aged bage|dB~B2 GABd|gfdc Bgfg|\\reA~A2 fedB|AE~E2 DG,B,G,|A,E~E2 ~E2DE|GEDB, B,A,A,:|',\n",
       "  u'date': u'2008-09-02 08:16:52',\n",
       "  u'meter': u'4/4',\n",
       "  u'mode': u'Adorian',\n",
       "  u'name': u'Green Fields Of Glentown, The',\n",
       "  u'setting': u'13718',\n",
       "  u'tune': u'671',\n",
       "  u'type': u'reel',\n",
       "  u'username': u'walterbracht'},\n",
       " {u'abc': u'|:E~A,3 EFDB,|G,~B,2 A, G,2 B,D|~E3D EDB,D|GBeB dBAB|\\r\\ne~B3 eBdB|A~E3 DB,G,B,|A,~E3 A,EDE|GED ~B,2 ~A,3:|\\r\\n|:A2EA cAEA|G2DB, G,A,B,D|EA (3AAA EA (3Bcd)|edBA aged|\\r\\nb~g3 a~g2e|d~B3 AEDB,|A,~E3 A,EDE|GED ~B,2 ~A,3:|\\r\\n|A2EA cAEA|a2ge bage|dB (3GGG G2Bd|gedB Agdg|e2Ae\\r\\nfedB|A~E3 DB,G,B,|~A,3E EDEF|EB,G~B,2 ~A,3:|',\n",
       "  u'date': u'2013-04-21 13:16:07',\n",
       "  u'meter': u'4/4',\n",
       "  u'mode': u'Adorian',\n",
       "  u'name': u'Green Fields Of Glentown, The',\n",
       "  u'setting': u'21456',\n",
       "  u'tune': u'671',\n",
       "  u'type': u'reel',\n",
       "  u'username': u'enirehtac'},\n",
       " {u'abc': u'|:E~A,3 EFDB,|G,~B,2 A, G,2 B,D|~E3D EDB,D|GBeB dBAB|\\r\\ne~B3 eBdB|A~E3 DB,G,B,|A,~E3 A,EDE|GED ~B,2 ~A,3:|\\r\\n|: A2EA cAEA|G2DB, G,A,B,D|EA (3AAA EA (3Bcd|edBA aged|\\r\\nb~g3 a~g2e|d~B3 AEDB,|A,~E3 A,EDE|GED ~B,2 ~A,3:|\\r\\n|:A2EA cAEA|a2ge bage|dB (3GGG G2Bd|gedB Agdg|\\r\\ne2Ae fedB|A~E3 DB,G,B,|~A,3E EDEF|EB,G~B,2 ~A,3:|',\n",
       "  u'date': u'2013-04-21 13:41:43',\n",
       "  u'meter': u'4/4',\n",
       "  u'mode': u'Adorian',\n",
       "  u'name': u'Green Fields Of Glentown, The',\n",
       "  u'setting': u'21457',\n",
       "  u'tune': u'671',\n",
       "  u'type': u'reel',\n",
       "  u'username': u'T\\xf8m'},\n",
       " {u'abc': u'EA,~A,2 E2DB,|G,B,~B,2 G,A,B,D|EA,~A,2 E2DE|GBeB dBAB|\\r\\neB~B2 eBdB|AE~E2 DG,B,G,|A,E~E2 E2DE|GEDB, B,A,~A,2:|\\r\\n|:A2EA cAEA|G2DB, G,A,B,D|EA~A2 GABd|edBA AGED|\\r\\nBG~G2 AFGE|DB,~B,2 GEDB,|A,E~E2 E2DE|GEDB, B,A,~A,2:|\\r\\n|:A2EA cAEA|AGED BAGe|dG~G2 DGBd|GDED B,DGD|\\r\\nE2B,E EB,DB,|A,E~E2 DG,B,G,|A,E~E2 E2DE|GEDB, B,A,~A,2:|',\n",
       "  u'date': u'2016-01-29 13:07:43',\n",
       "  u'meter': u'4/4',\n",
       "  u'mode': u'Adorian',\n",
       "  u'name': u'Green Fields Of Glentown, The',\n",
       "  u'setting': u'28138',\n",
       "  u'tune': u'671',\n",
       "  u'type': u'reel',\n",
       "  u'username': u'bravesentry'}]"
      ]
     },
     "execution_count": 64,
     "metadata": {},
     "output_type": "execute_result"
    }
   ],
   "source": [
    "\n",
    "matchJsonField(ts_tunes,'name','Green Fields Of Glentown, The')[0]\n",
    "\n"
   ]
  },
  {
   "cell_type": "code",
   "execution_count": 96,
   "metadata": {},
   "outputs": [
    {
     "data": {
      "text/plain": [
       "u'E2BE E2BE|E2dB AFEF|D2(3FED ADFE|DFF2 DFAF|\\rE2BE E2ef|f/f/e fd edef|f/f/e fd edBe|dBAF DEED:|\\rEefe befe|EBB2 A2FD|EDAD BDA2|(3aba (3faf (3ded AE|\\rFBee ef (3gab|ed BAB2ef|f/f/e fd edBe|dBAF DEED:|'"
      ]
     },
     "execution_count": 96,
     "metadata": {},
     "output_type": "execute_result"
    }
   ],
   "source": [
    "inJsonField(ts_tunes,'name','Cloch Na')[3]['abc']"
   ]
  },
  {
   "cell_type": "code",
   "execution_count": 123,
   "metadata": {},
   "outputs": [
    {
     "name": "stdout",
     "output_type": "stream",
     "text": [
      "|: A2BA (3B^cd ef | gedB AGEF | G2BG dGBG | DEGA BAdB |\n",
      "A2BA (3B^cd ef | gedB AGEG | B3G A2GE | DEGA BAA2:|\n",
      "|: eaag a2ga | bgaf gfed | eggf g2ge | dega bgag |\n",
      "eaag a2ga | bgaf gfed | eg (3gfg edBA | dBgB BAA2 :|\n"
     ]
    }
   ],
   "source": [
    "t = matchJsonField(ts_tunes,'name','Sligo Maid, The')[0]\n",
    "tune = Tune(json=t)"
   ]
  },
  {
   "cell_type": "code",
   "execution_count": 36,
   "metadata": {},
   "outputs": [
    {
     "data": {
      "text/plain": [
       "1.0"
      ]
     },
     "execution_count": 36,
     "metadata": {},
     "output_type": "execute_result"
    }
   ],
   "source": [
    "n = tune.notes[3]\n",
    "n.duration"
   ]
  },
  {
   "cell_type": "code",
   "execution_count": 127,
   "metadata": {},
   "outputs": [],
   "source": [
    "note_symbols = ['C','D','E','F','G','A','B','c','d','e','f','g','a','b','z']\n",
    "esc_chars = ['\\r','\\n']\n",
    "#['^','=']\n",
    "oct_chars = [\",\",\"'\"]\n",
    "def notesInStr(mystr):\n",
    "    for x in note_symbols:\n",
    "        if x in mystr:\n",
    "            return True\n",
    "    return False\n",
    "\n",
    "def removeESC(mystr):\n",
    "    cstr = mystr\n",
    "    for c in esc_chars:\n",
    "        cstr = cstr.replace(c,'')\n",
    "    return cstr\n",
    "\n",
    "def tripletToSemiQuavers(mystr):\n",
    "    '''\n",
    "    To facilitate comparisons of duration, we are going to treat '3(ABc' as 'A\\B\\c'.\n",
    "    '''\n",
    "    tars = []\n",
    "    reps = []\n",
    "    for i,c in enumerate(mystr):\n",
    "\n",
    "        #try:\n",
    "            if mystr[i]=='(' and mystr[i+1]=='3':\n",
    "                print i\n",
    "                tar = u'(3'\n",
    "                rep = ''\n",
    "                \n",
    "                ii = i+2\n",
    "                notes = 0\n",
    "                while notes<2:\n",
    "                    if mystr[ii] in note_symbols:\n",
    "                        print ii, mystr[ii]\n",
    "                        tar = tar + mystr[ii]\n",
    "                        rep = rep + mystr[ii]\n",
    "                        if mystr[ii+1] in oct_chars:\n",
    "                            tar = tar + mystr[ii+1]\n",
    "                            rep = rep + mystr[ii+1]\n",
    "                            ii = ii+1\n",
    "                        ii = ii+1\n",
    "                        rep = rep +\"/\"\n",
    "                        \n",
    "                        notes = notes+1\n",
    "                    else:\n",
    "                        print ii, mystr[ii]\n",
    "                        tar = tar + mystr[ii]\n",
    "                        rep = rep + mystr[ii]\n",
    "                        ii = ii+1\n",
    "                        \n",
    "                \n",
    "                tars.append(tar)\n",
    "                reps.append(rep)\n",
    "    \n",
    "    print tars\n",
    "    print reps\n",
    "    \n",
    "    cstr = mystr\n",
    "    for t,r in zip(tars,reps):\n",
    "        try:\n",
    "            cstr = cstr.replace(t,r)\n",
    "        except:\n",
    "            pass\n",
    "    \n",
    "    return cstr\n",
    "                             "
   ]
  },
  {
   "cell_type": "code",
   "execution_count": 106,
   "metadata": {},
   "outputs": [
    {
     "data": {
      "text/plain": [
       "u'|: A2BA (3B^cd ef | gedB AGEF | G2BG dGBG | DEGA BAdB |\\r\\nA2BA (3B^cd ef | gedB AGEG | B3G A2GE | DEGA BAA2:|\\r\\n|: eaag a2ga | bgaf gfed | eggf g2ge | dega bgag |\\r\\neaag a2ga | bgaf gfed | eg (3gfg edBA | dBgB BAA2 :|'"
      ]
     },
     "execution_count": 106,
     "metadata": {},
     "output_type": "execute_result"
    }
   ],
   "source": [
    "abc"
   ]
  },
  {
   "cell_type": "code",
   "execution_count": 119,
   "metadata": {},
   "outputs": [
    {
     "name": "stdout",
     "output_type": "stream",
     "text": [
      "8\n",
      "10 B\n",
      "11 ^\n",
      "12 c\n",
      "62\n",
      "64 B\n",
      "65 ^\n",
      "66 c\n",
      "189\n",
      "191 g\n",
      "192 f\n",
      "[u'(3B^c', u'(3B^c', u'(3gf']\n",
      "[u'B/^c/', u'B/^c/', u'g/f/']\n"
     ]
    },
    {
     "data": {
      "text/plain": [
       "u'|: A2BA B/^c/d ef | gedB AGEF | G2BG dGBG | DEGA BAdB |\\r\\nA2BA B/^c/d ef | gedB AGEG | B3G A2GE | DEGA BAA2:|\\r\\n|: eaag a2ga | bgaf gfed | eggf g2ge | dega bgag |\\r\\neaag a2ga | bgaf gfed | eg g/f/g edBA | dBgB BAA2 :|'"
      ]
     },
     "execution_count": 119,
     "metadata": {},
     "output_type": "execute_result"
    }
   ],
   "source": [
    "tripletToSemiQuavers(abc)"
   ]
  },
  {
   "cell_type": "code",
   "execution_count": 132,
   "metadata": {},
   "outputs": [
    {
     "name": "stdout",
     "output_type": "stream",
     "text": [
      "8\n",
      "10 B\n",
      "11 ^\n",
      "12 c\n",
      "62\n",
      "64 B\n",
      "65 ^\n",
      "66 c\n",
      "189\n",
      "191 g\n",
      "192 f\n",
      "[u'(3B^c', u'(3B^c', u'(3gf']\n",
      "[u'B/^c/', u'B/^c/', u'g/f/']\n",
      "|: A2BA B/^c/d ef | gedB AGEF | G2BG dGBG | DEGA BAdB |\n",
      "A2BA B/^c/d ef | gedB AGEG | B3G A2GE | DEGA BAA2:|\n",
      "|: eaag a2ga | bgaf gfed | eggf g2ge | dega bgag |\n",
      "eaag a2ga | bgaf gfed | eg g/f/g edBA | dBgB BAA2 :|\n"
     ]
    },
    {
     "data": {
      "text/plain": [
       "0.5"
      ]
     },
     "execution_count": 132,
     "metadata": {},
     "output_type": "execute_result"
    }
   ],
   "source": [
    "t['abc'] = tripletToSemiQuavers(abc)\n",
    "\n",
    "tune = Tune(json=t)\n",
    "tune.notes[3].duration"
   ]
  },
  {
   "cell_type": "code",
   "execution_count": 122,
   "metadata": {},
   "outputs": [
    {
     "ename": "TypeError",
     "evalue": "list indices must be integers, not str",
     "output_type": "error",
     "traceback": [
      "\u001b[0;31m---------------------------------------------------------------------------\u001b[0m",
      "\u001b[0;31mTypeError\u001b[0m                                 Traceback (most recent call last)",
      "\u001b[0;32m<ipython-input-122-e6007fda2aa2>\u001b[0m in \u001b[0;36m<module>\u001b[0;34m()\u001b[0m\n\u001b[0;32m----> 1\u001b[0;31m \u001b[0mabc\u001b[0m \u001b[0;34m=\u001b[0m \u001b[0mt\u001b[0m\u001b[0;34m[\u001b[0m\u001b[0;34m'abc'\u001b[0m\u001b[0;34m]\u001b[0m\u001b[0;34m\u001b[0m\u001b[0m\n\u001b[0m\u001b[1;32m      2\u001b[0m \u001b[0mabc2\u001b[0m \u001b[0;34m=\u001b[0m \u001b[0mremoveESC\u001b[0m\u001b[0;34m(\u001b[0m\u001b[0mabc\u001b[0m\u001b[0;34m)\u001b[0m\u001b[0;34m\u001b[0m\u001b[0m\n\u001b[1;32m      3\u001b[0m \u001b[0mabc2\u001b[0m\u001b[0;34m\u001b[0m\u001b[0m\n",
      "\u001b[0;31mTypeError\u001b[0m: list indices must be integers, not str"
     ]
    }
   ],
   "source": [
    "abc = t['abc']\n",
    "abc2 = removeESC(abc)\n",
    "abc2"
   ]
  },
  {
   "cell_type": "code",
   "execution_count": 44,
   "metadata": {},
   "outputs": [],
   "source": [
    "smeas = abc.split('|')"
   ]
  },
  {
   "cell_type": "code",
   "execution_count": 55,
   "metadata": {},
   "outputs": [
    {
     "data": {
      "text/plain": [
       "[u': A2BA (3B^cd ef ',\n",
       " u' gedB AGEF ',\n",
       " u' G2BG dGBG ',\n",
       " u' DEGA BAdB ',\n",
       " u'\\r\\nA2BA (3B^cd ef ',\n",
       " u' gedB AGEG ',\n",
       " u' B3G A2GE ',\n",
       " u' DEGA BAA2:',\n",
       " u': eaag a2ga ',\n",
       " u' bgaf gfed ',\n",
       " u' eggf g2ge ',\n",
       " u' dega bgag ',\n",
       " u'\\r\\neaag a2ga ',\n",
       " u' bgaf gfed ',\n",
       " u' eg (3gfg edBA ',\n",
       " u' dBgB BAA2 :']"
      ]
     },
     "execution_count": 55,
     "metadata": {},
     "output_type": "execute_result"
    }
   ],
   "source": [
    "smeas2 = [ x for x in smeas if notesInStr(x)]\n",
    "smeas2"
   ]
  },
  {
   "cell_type": "code",
   "execution_count": 52,
   "metadata": {
    "collapsed": true
   },
   "outputs": [],
   "source": [
    "\n",
    "            \n",
    "    "
   ]
  },
  {
   "cell_type": "code",
   "execution_count": 53,
   "metadata": {},
   "outputs": [
    {
     "data": {
      "text/plain": [
       "[False,\n",
       " True,\n",
       " True,\n",
       " True,\n",
       " True,\n",
       " True,\n",
       " True,\n",
       " True,\n",
       " True,\n",
       " False,\n",
       " True,\n",
       " True,\n",
       " True,\n",
       " True,\n",
       " True,\n",
       " True,\n",
       " True,\n",
       " True,\n",
       " False]"
      ]
     },
     "execution_count": 53,
     "metadata": {},
     "output_type": "execute_result"
    }
   ],
   "source": [
    "[ notesInStr(x) for x in smeas ]"
   ]
  },
  {
   "cell_type": "code",
   "execution_count": null,
   "metadata": {
    "collapsed": true
   },
   "outputs": [],
   "source": []
  }
 ],
 "metadata": {
  "kernelspec": {
   "display_name": "Python [Root]",
   "language": "python",
   "name": "Python [Root]"
  },
  "language_info": {
   "codemirror_mode": {
    "name": "ipython",
    "version": 2
   },
   "file_extension": ".py",
   "mimetype": "text/x-python",
   "name": "python",
   "nbconvert_exporter": "python",
   "pygments_lexer": "ipython2",
   "version": "2.7.12"
  }
 },
 "nbformat": 4,
 "nbformat_minor": 1
}
